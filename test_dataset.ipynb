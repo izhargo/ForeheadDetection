{
 "cells": [
  {
   "cell_type": "code",
   "execution_count": 7,
   "metadata": {},
   "outputs": [],
   "source": [
    "import os\n",
    "import cv2\n",
    "import random\n",
    "import numpy as np\n",
    "import matplotlib as plt\n",
    "from pathlib import Path\n",
    "from typing import List, Dict\n",
    "\n",
    "import utils"
   ]
  },
  {
   "cell_type": "code",
   "execution_count": 15,
   "metadata": {},
   "outputs": [],
   "source": [
    "DATA_FOLDER = os.path.join('data', 'Forehead')\n",
    "TRAIN_IMAGES_FOLDER = os.path.join(DATA_FOLDER, 'train', 'images')\n",
    "TRAIN_LABELS_FOLDER = os.path.join(DATA_FOLDER, 'train', 'labels')\n",
    "VAL_IMAGES_FOLDER = os.path.join(DATA_FOLDER, 'val', 'images')\n",
    "VAL_LABELS_FOLDER = os.path.join(DATA_FOLDER, 'val', 'labels')\n",
    "TEST_IMAGES_FOLDER = os.path.join(DATA_FOLDER, 'test', 'images')\n",
    "TEST_LABELS_FOLDER = os.path.join(DATA_FOLDER, 'test', 'labels')\n",
    "key_to_image_folder = {\n",
    "    'train': {'images': TRAIN_IMAGES_FOLDER, 'labels': TRAIN_LABELS_FOLDER},\n",
    "    'val': {'images': VAL_IMAGES_FOLDER, 'labels': VAL_LABELS_FOLDER},\n",
    "    'test': {'images': TEST_IMAGES_FOLDER, 'labels': TEST_LABELS_FOLDER}, \n",
    "}"
   ]
  },
  {
   "cell_type": "code",
   "execution_count": 9,
   "metadata": {},
   "outputs": [
    {
     "name": "stdout",
     "output_type": "stream",
     "text": [
      "Train images - 18200\n",
      "Validation images - 530\n",
      "Test images - 840\n"
     ]
    }
   ],
   "source": [
    "train_images_files = utils.only_jpg_files(os.listdir(TRAIN_IMAGES_FOLDER))\n",
    "test_images_files = utils.only_jpg_files(os.listdir(TEST_IMAGES_FOLDER))\n",
    "val_images_files = utils.only_jpg_files(os.listdir(VAL_IMAGES_FOLDER))\n",
    "print(f'Train images - {len(train_images_files)}')\n",
    "print(f'Validation images - {len(val_images_files)}')\n",
    "print(f'Test images - {len(test_images_files)}')"
   ]
  },
  {
   "cell_type": "code",
   "execution_count": 10,
   "metadata": {},
   "outputs": [
    {
     "name": "stdout",
     "output_type": "stream",
     "text": [
      "['1753.7.jpg', '59.7.jpg', '1172.6.jpg'] ['2376.1.jpg', '2435.6.jpg', '2437.2.jpg'] ['2512.5.jpg', '2483.8.jpg', '2508.2.jpg']\n"
     ]
    }
   ],
   "source": [
    "train_rand_images = random.choices(train_images_files, k=3)\n",
    "test_rand_images = random.choices(test_images_files, k=3)\n",
    "val_rand_images = random.choices(val_images_files, k=3)\n",
    "print(train_rand_images, test_rand_images, val_rand_images)"
   ]
  },
  {
   "cell_type": "code",
   "execution_count": 16,
   "metadata": {},
   "outputs": [],
   "source": [
    "def create_random_dict(image_type: str, images: List[str]) -> Dict:\n",
    "    random_images_dict = dict()\n",
    "    for image_filename in images:\n",
    "        file_no_ext = Path(image_filename).stem\n",
    "        label_folder = key_to_image_folder[image_type]['labels']\n",
    "        bbox = utils.get_bbox(file_no_ext, label_folder)\n",
    "        image_folder = key_to_image_folder[image_type]['images']\n",
    "        full_image_filename = os.path.join(image_folder, image_filename)\n",
    "        random_images_dict[full_image_filename] = {'type': image_type, 'bbox': bbox}\n",
    "    return random_images_dict"
   ]
  },
  {
   "cell_type": "code",
   "execution_count": 20,
   "metadata": {},
   "outputs": [
    {
     "name": "stdout",
     "output_type": "stream",
     "text": [
      "9\n"
     ]
    }
   ],
   "source": [
    "all_random_data = dict()\n",
    "train_random_data = create_random_dict('train', train_rand_images)\n",
    "val_random_data = create_random_dict('val', val_rand_images)\n",
    "test_random_data = create_random_dict('test', test_rand_images)\n",
    "# print(f'Train - {train_random_data} \\nTest - {val_random_data}\\nVal - {test_random_data}')\n",
    "all_random_data.update(train_random_data)\n",
    "all_random_data.update(val_random_data)\n",
    "all_random_data.update(test_random_data)\n",
    "print(all_random_data)"
   ]
  },
  {
   "cell_type": "code",
   "execution_count": 18,
   "metadata": {},
   "outputs": [],
   "source": [
    "# Function to draw bounding box on an image\n",
    "def draw_bounding_box(image, bbox, color=(255, 0, 0), thickness=2):\n",
    "    h, w, _ = image.shape\n",
    "    x_min = int(bbox[0] * w)\n",
    "    y_min = int(bbox[1] * h)\n",
    "    x_max = int(bbox[2] * w)\n",
    "    y_max = int(bbox[3] * h)\n",
    "    cv2.rectangle(image, (x_min, y_min), (x_max, y_max), color, thickness)\n",
    "    return image"
   ]
  },
  {
   "cell_type": "code",
   "execution_count": null,
   "metadata": {},
   "outputs": [],
   "source": [
    "plt.figure(figsize=(15, 15))\n",
    "\n",
    "for image_path, data in random_images_dict.items():\n",
    "    image = cv2.imread(image_path)\n",
    "    image = cv2.cvtColor(image, cv2.COLOR_BGR2RGB)  # Convert to RGB for matplotlib\n",
    "    image_with_bbox = draw_bounding_box(image, bbox)\n",
    "    \n",
    "    plt.subplot(3, 3, i + 1)\n",
    "    plt.imshow(image_with_bbox)\n",
    "    plt.title(f'Image {i + 1}')\n",
    "    plt.axis('off')\n",
    "\n",
    "plt.tight_layout()\n",
    "plt.show()"
   ]
  }
 ],
 "metadata": {
  "kernelspec": {
   "display_name": "forhead_detection_venv",
   "language": "python",
   "name": "python3"
  },
  "language_info": {
   "codemirror_mode": {
    "name": "ipython",
    "version": 3
   },
   "file_extension": ".py",
   "mimetype": "text/x-python",
   "name": "python",
   "nbconvert_exporter": "python",
   "pygments_lexer": "ipython3",
   "version": "3.12.1"
  }
 },
 "nbformat": 4,
 "nbformat_minor": 2
}
